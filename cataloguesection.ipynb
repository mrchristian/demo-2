{
 "cells": [
  {
   "cell_type": "markdown",
   "metadata": {},
   "source": [
    "---\n",
    "jupyter: python3\n",
    "execute:\n",
    "  echo: false\n",
    "  output: asis \n",
    "---"
   ]
  },
  {
   "cell_type": "markdown",
   "metadata": {},
   "source": [
    "# List of Items\n",
    "\n",
    "- a \n",
    "- b\n",
    "- c\n",
    "- d\n",
    "- e\n",
    "\n",
    "# Sources & Data Models\n",
    "\n",
    "- f\n",
    "- g\n",
    "- h\n",
    "- i \n",
    "- j \n",
    "- k"
   ]
  }
 ],
 "metadata": {
  "language_info": {
   "name": "python"
  }
 },
 "nbformat": 4,
 "nbformat_minor": 2
}
