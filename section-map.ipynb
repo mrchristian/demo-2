{
 "cells": [
  {
   "cell_type": "raw",
   "metadata": {
    "vscode": {
     "languageId": "raw"
    }
   },
   "source": [
    "---\n",
    "title: \"Karte: Schloss Weikersheim\"\n",
    "jupyter: python3\n",
    "execute:\n",
    "  echo: false\n",
    "  output: asis \n",
    "format: html\n",
    "page-layout: full\n",
    "sidebar: false\n",
    "page-navigation: true\n",
    "---"
   ]
  },
  {
   "cell_type": "code",
   "execution_count": 9,
   "metadata": {},
   "outputs": [],
   "source": [
    "from PIL import Image\n",
    "from markdownify import markdownify \n",
    "import folium\n",
    "import io\n",
    "\n",
    "\n",
    "\n"
   ]
  },
  {
   "cell_type": "code",
   "execution_count": 10,
   "metadata": {},
   "outputs": [],
   "source": [
    "name = \"Schloss Weikersheim\"\n",
    "item_url = \"https://www.wikidata.org/wiki/Q504517\"\n",
    "lat = 49.480507\n",
    "lon = 9.895949\n"
   ]
  },
  {
   "cell_type": "code",
   "execution_count": 11,
   "metadata": {},
   "outputs": [
    {
     "name": "stdout",
     "output_type": "stream",
     "text": [
      " \n",
      "::: {.content-visible when-format='html'} \n",
      "    \n"
     ]
    }
   ],
   "source": [
    "m = folium.Map(location=[lat, lon], zoom_start=20)\n",
    "\n",
    "folium.Marker(\n",
    "    location=[lat, lon],\n",
    "    popup=f\"\"\"<h3><a href='{item_url}' target='_blank'>{name}</a></h3>\n",
    "    \"\"\",\n",
    "    #<img src='{url}' alt='{alt}' style='width:200px;height:200px;object-fit:contain;'>\n",
    "    #<a href='{url}' target='_blank'>Full size image</a>\"\"\",  \n",
    "    tooltip=name  # Hover label\n",
    ").add_to(m)\n",
    "\n",
    "print(\"\"\" \n",
    "::: {.content-visible when-format='html'} \n",
    "    \"\"\")   \n",
    "\n"
   ]
  },
  {
   "cell_type": "code",
   "execution_count": 12,
   "metadata": {},
   "outputs": [
    {
     "data": {
      "text/html": [
       "<div style=\"width:100%;\"><div style=\"position:relative;width:100%;height:0;padding-bottom:60%;\"><span style=\"color:#565656\">Make this Notebook Trusted to load map: File -> Trust Notebook</span><iframe srcdoc=\"&lt;!DOCTYPE html&gt;\n",
       "&lt;html&gt;\n",
       "&lt;head&gt;\n",
       "    \n",
       "    &lt;meta http-equiv=&quot;content-type&quot; content=&quot;text/html; charset=UTF-8&quot; /&gt;\n",
       "    \n",
       "        &lt;script&gt;\n",
       "            L_NO_TOUCH = false;\n",
       "            L_DISABLE_3D = false;\n",
       "        &lt;/script&gt;\n",
       "    \n",
       "    &lt;style&gt;html, body {width: 100%;height: 100%;margin: 0;padding: 0;}&lt;/style&gt;\n",
       "    &lt;style&gt;#map {position:absolute;top:0;bottom:0;right:0;left:0;}&lt;/style&gt;\n",
       "    &lt;script src=&quot;https://cdn.jsdelivr.net/npm/leaflet@1.9.3/dist/leaflet.js&quot;&gt;&lt;/script&gt;\n",
       "    &lt;script src=&quot;https://code.jquery.com/jquery-3.7.1.min.js&quot;&gt;&lt;/script&gt;\n",
       "    &lt;script src=&quot;https://cdn.jsdelivr.net/npm/bootstrap@5.2.2/dist/js/bootstrap.bundle.min.js&quot;&gt;&lt;/script&gt;\n",
       "    &lt;script src=&quot;https://cdnjs.cloudflare.com/ajax/libs/Leaflet.awesome-markers/2.0.2/leaflet.awesome-markers.js&quot;&gt;&lt;/script&gt;\n",
       "    &lt;link rel=&quot;stylesheet&quot; href=&quot;https://cdn.jsdelivr.net/npm/leaflet@1.9.3/dist/leaflet.css&quot;/&gt;\n",
       "    &lt;link rel=&quot;stylesheet&quot; href=&quot;https://cdn.jsdelivr.net/npm/bootstrap@5.2.2/dist/css/bootstrap.min.css&quot;/&gt;\n",
       "    &lt;link rel=&quot;stylesheet&quot; href=&quot;https://netdna.bootstrapcdn.com/bootstrap/3.0.0/css/bootstrap-glyphicons.css&quot;/&gt;\n",
       "    &lt;link rel=&quot;stylesheet&quot; href=&quot;https://cdn.jsdelivr.net/npm/@fortawesome/fontawesome-free@6.2.0/css/all.min.css&quot;/&gt;\n",
       "    &lt;link rel=&quot;stylesheet&quot; href=&quot;https://cdnjs.cloudflare.com/ajax/libs/Leaflet.awesome-markers/2.0.2/leaflet.awesome-markers.css&quot;/&gt;\n",
       "    &lt;link rel=&quot;stylesheet&quot; href=&quot;https://cdn.jsdelivr.net/gh/python-visualization/folium/folium/templates/leaflet.awesome.rotate.min.css&quot;/&gt;\n",
       "    \n",
       "            &lt;meta name=&quot;viewport&quot; content=&quot;width=device-width,\n",
       "                initial-scale=1.0, maximum-scale=1.0, user-scalable=no&quot; /&gt;\n",
       "            &lt;style&gt;\n",
       "                #map_6eab0abaf99f1d7d70ca4b979b59a7b5 {\n",
       "                    position: relative;\n",
       "                    width: 100.0%;\n",
       "                    height: 100.0%;\n",
       "                    left: 0.0%;\n",
       "                    top: 0.0%;\n",
       "                }\n",
       "                .leaflet-container { font-size: 1rem; }\n",
       "            &lt;/style&gt;\n",
       "        \n",
       "&lt;/head&gt;\n",
       "&lt;body&gt;\n",
       "    \n",
       "    \n",
       "            &lt;div class=&quot;folium-map&quot; id=&quot;map_6eab0abaf99f1d7d70ca4b979b59a7b5&quot; &gt;&lt;/div&gt;\n",
       "        \n",
       "&lt;/body&gt;\n",
       "&lt;script&gt;\n",
       "    \n",
       "    \n",
       "            var map_6eab0abaf99f1d7d70ca4b979b59a7b5 = L.map(\n",
       "                &quot;map_6eab0abaf99f1d7d70ca4b979b59a7b5&quot;,\n",
       "                {\n",
       "                    center: [49.480507, 9.895949],\n",
       "                    crs: L.CRS.EPSG3857,\n",
       "                    zoom: 20,\n",
       "                    zoomControl: true,\n",
       "                    preferCanvas: false,\n",
       "                }\n",
       "            );\n",
       "\n",
       "            \n",
       "\n",
       "        \n",
       "    \n",
       "            var tile_layer_5516915ccc9809930f54f84cd2301989 = L.tileLayer(\n",
       "                &quot;https://tile.openstreetmap.org/{z}/{x}/{y}.png&quot;,\n",
       "                {&quot;attribution&quot;: &quot;\\u0026copy; \\u003ca href=\\&quot;https://www.openstreetmap.org/copyright\\&quot;\\u003eOpenStreetMap\\u003c/a\\u003e contributors&quot;, &quot;detectRetina&quot;: false, &quot;maxNativeZoom&quot;: 19, &quot;maxZoom&quot;: 19, &quot;minZoom&quot;: 0, &quot;noWrap&quot;: false, &quot;opacity&quot;: 1, &quot;subdomains&quot;: &quot;abc&quot;, &quot;tms&quot;: false}\n",
       "            );\n",
       "        \n",
       "    \n",
       "            tile_layer_5516915ccc9809930f54f84cd2301989.addTo(map_6eab0abaf99f1d7d70ca4b979b59a7b5);\n",
       "        \n",
       "    \n",
       "            var marker_b9bdc707b731df64f37f9ca58bb94ae1 = L.marker(\n",
       "                [49.480507, 9.895949],\n",
       "                {}\n",
       "            ).addTo(map_6eab0abaf99f1d7d70ca4b979b59a7b5);\n",
       "        \n",
       "    \n",
       "        var popup_20ff2a1a977f32718ace6d9f78c6cc8b = L.popup({&quot;maxWidth&quot;: &quot;100%&quot;});\n",
       "\n",
       "        \n",
       "            \n",
       "                var html_be5ffb09e4bcaef0f27b55000d79e8f2 = $(`&lt;div id=&quot;html_be5ffb09e4bcaef0f27b55000d79e8f2&quot; style=&quot;width: 100.0%; height: 100.0%;&quot;&gt;&lt;h3&gt;&lt;a href=&#x27;https://www.wikidata.org/wiki/Q504517&#x27; target=&#x27;_blank&#x27;&gt;Schloss Weikersheim&lt;/a&gt;&lt;/h3&gt;     &lt;/div&gt;`)[0];\n",
       "                popup_20ff2a1a977f32718ace6d9f78c6cc8b.setContent(html_be5ffb09e4bcaef0f27b55000d79e8f2);\n",
       "            \n",
       "        \n",
       "\n",
       "        marker_b9bdc707b731df64f37f9ca58bb94ae1.bindPopup(popup_20ff2a1a977f32718ace6d9f78c6cc8b)\n",
       "        ;\n",
       "\n",
       "        \n",
       "    \n",
       "    \n",
       "            marker_b9bdc707b731df64f37f9ca58bb94ae1.bindTooltip(\n",
       "                `&lt;div&gt;\n",
       "                     Schloss Weikersheim\n",
       "                 &lt;/div&gt;`,\n",
       "                {&quot;sticky&quot;: true}\n",
       "            );\n",
       "        \n",
       "&lt;/script&gt;\n",
       "&lt;/html&gt;\" style=\"position:absolute;width:100%;height:100%;left:0;top:0;border:none !important;\" allowfullscreen webkitallowfullscreen mozallowfullscreen></iframe></div></div>"
      ],
      "text/plain": [
       "<folium.folium.Map at 0x1d36ad0e500>"
      ]
     },
     "execution_count": 12,
     "metadata": {},
     "output_type": "execute_result"
    }
   ],
   "source": [
    "\n",
    "m"
   ]
  },
  {
   "cell_type": "code",
   "execution_count": 13,
   "metadata": {},
   "outputs": [],
   "source": [
    "# m_berlin = folium.Map(location=[52, 10], zoom_start=2)\n",
    "\n",
    "# locations = [\n",
    "#     ('', '', '', ''),\n",
    "#     ('', '', '', ''),\n",
    "#     ('', '', '', ''),\n",
    "#     ('', '', '', ''),\n",
    "#     ('', '', '', ''),\n",
    "#     ('', '', '', ''),\n",
    "#     ('', '', '', ''),\n",
    "#     ('', '', '', ''),\n",
    "#     ('', '', '', ''),\n",
    "#     ('', '', '', ''),\n",
    "#     ('', '', '', ''),\n",
    "#     ('', '', ''),\n",
    "#     ]\n",
    "\n",
    "# for name, lat, lon, url in locations:\n",
    "#     folium.Marker(\n",
    "#         location=[lat, lon],\n",
    "#         popup=f\"\"\"<h3><a href='{item}' target='_blank'>{name}</a></h3>\n",
    "#         {place}\"\"\",\n",
    "#         #<img src='{url}' alt='{alt}' style='width:200px;height:200px;object-fit:contain;'>\n",
    "#         #<a href='{url}' target='_blank'>Full size image</a>\"\"\",  \n",
    "#         tooltip=name  # Hover label\n",
    "#     ).add_to(m_hannover)\n",
    "\n",
    "# print(\"\"\" \n",
    "# ::: {.content-visible when-format='html'}\n",
    "\n",
    "# ## Hannover \n",
    "      \n",
    "# [Wikidata Link](https://query.wikidata.org/#%23defaultView%3AMap%0A%0ASELECT%20DISTINCT%20%3Fitem%20%3FitemLabel%20%3Flocation%20%3FlocationLabel%20%3Flatitude%20%3Flongitude%20%3Fgeo%20WHERE%20%7B%0A%20%20VALUES%20%3Ftype%20%7B%20wd%3AQ1007870%20wd%3AQ33506%20wd%3AQ166118%20wd%3AQ2668072%20wd%3AQ667276%20%0A%20%20%20%20%20%20%20%20%20%20%20%20%20%20%20%20%20wd%3AQ464980%20wd%3AQ56190453%20%7D%0A%20%20%23art%20gallery%2C%20museum%2C%20archive%2C%20collection%2C%20art%20exhibition%2C%20%0A%20%20%23%20exhibition%2C%20memorial%0A%20%20%0A%20%20VALUES%20%3Fplaces%20%7B%20wd%3AQ1715%20%7D%20%0A%0A%20%20%23%20Find%20locations%20that%20match%20%3Fplaces%20directly%20OR%20one%20level%20above%2Fbelow%0A%20%20%3Fplace%20%28wdt%3AP131%7C%5Ewdt%3AP131%29%20%3Fplaces.%20%0A%0A%20%20%23%20Find%20items%20that%20are%20in%20those%20locations%0A%20%20%3Fitem%20wdt%3AP31%20%3Ftype%3B%20%20%23%20Must%20be%20an%20instance%20of%20a%20relevant%20cultural%20type%0A%20%20%20%20%20%20%20%20wdt%3AP276%7Cwdt%3AP131%20%3Fplace.%20%20%23%20Located%20in%20one%20of%20the%20places%0A%20%20%0A%20%20%3Fitem%20wdt%3AP625%20%3Fgeo.%20%20%23%20Get%20coordinates%0A%0A%20%20SERVICE%20wikibase%3Alabel%20%7B%20bd%3AserviceParam%20wikibase%3Alanguage%20%22en%2C%5BAUTO_LANGUAGE%5D%22.%20%7D%0A%0A%20%20BIND%28geof%3Alatitude%28%3Fgeo%29%20AS%20%3Flatitude%29.%0A%20%20BIND%28geof%3Alongitude%28%3Fgeo%29%20AS%20%3Flongitude%29.%0A%7D)\n",
    "# \"\"\")   "
   ]
  },
  {
   "cell_type": "code",
   "execution_count": 14,
   "metadata": {},
   "outputs": [
    {
     "name": "stdout",
     "output_type": "stream",
     "text": [
      "\n",
      ":::\n",
      "\n"
     ]
    }
   ],
   "source": [
    "print(\"\"\"\n",
    ":::\n",
    "\"\"\")\n"
   ]
  },
  {
   "cell_type": "code",
   "execution_count": 15,
   "metadata": {},
   "outputs": [
    {
     "name": "stdout",
     "output_type": "stream",
     "text": [
      " \n",
      ":::{.content-visible unless-format='html'}\n",
      "      \n",
      "![](images/museumsmap.png)\n",
      "\n",
      ":::\n",
      "\n"
     ]
    }
   ],
   "source": [
    "\n",
    "# Generate image from HTML\n",
    "img_data = m._to_png(5)\n",
    "img = Image.open(io.BytesIO(img_data))\n",
    "\n",
    "img.save('images/museumsmap.png')\n",
    "\n",
    "print(\"\"\" \n",
    ":::{.content-visible unless-format='html'}\n",
    "      \n",
    "![](images/museumsmap.png)\n",
    "\n",
    ":::\n",
    "\"\"\")\n"
   ]
  },
  {
   "cell_type": "code",
   "execution_count": 16,
   "metadata": {},
   "outputs": [],
   "source": [
    "#get_graph()"
   ]
  },
  {
   "cell_type": "code",
   "execution_count": null,
   "metadata": {},
   "outputs": [],
   "source": []
  }
 ],
 "metadata": {
  "kernelspec": {
   "display_name": "Python 3",
   "language": "python",
   "name": "python3"
  },
  "language_info": {
   "codemirror_mode": {
    "name": "ipython",
    "version": 3
   },
   "file_extension": ".py",
   "mimetype": "text/x-python",
   "name": "python",
   "nbconvert_exporter": "python",
   "pygments_lexer": "ipython3",
   "version": "3.10.11"
  }
 },
 "nbformat": 4,
 "nbformat_minor": 2
}
