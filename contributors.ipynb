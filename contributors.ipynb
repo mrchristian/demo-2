{
 "cells": [
  {
   "cell_type": "markdown",
   "metadata": {},
   "source": [
    "---\n",
    "jupyter: python3\n",
    "execute:\n",
    "  echo: false\n",
    "  output: asis \n",
    "title: Kolophon\n",
    "sidebar: false\n",
    "---"
   ]
  },
  {
   "cell_type": "markdown",
   "metadata": {},
   "source": []
  },
  {
   "cell_type": "markdown",
   "metadata": {},
   "source": [
    "## Prototyp-Beitragende\n",
    "\n",
    "Simon Worthington, [ORCiD: 0000-0002-8579-9717](https://orcid.org/0000-0002-8579-9717). Affiliation: TIB – Leibniz Information Centre for Science and Technology and University Library (ROR ID: [https://ror.org/04aj4c181](https://ror.org/04aj4c181)).\n",
    "\n",
    "Anna Rahr, [ORCiD: 0009-0008-4458-8228](https://orcid.org/0009-0008-4458-8228). Affiliation: Hochschule Hannover (ROR ID: [https://ror.org/03m2kj587](https://ror.org/03m2kj587)).\n"
   ]
  }
 ],
 "metadata": {
  "language_info": {
   "name": "python"
  }
 },
 "nbformat": 4,
 "nbformat_minor": 2
}
